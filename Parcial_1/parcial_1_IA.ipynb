{
  "nbformat": 4,
  "nbformat_minor": 0,
  "metadata": {
    "colab": {
      "provenance": [],
      "gpuType": "T4",
      "include_colab_link": true
    },
    "kernelspec": {
      "name": "python3",
      "display_name": "Python 3"
    },
    "language_info": {
      "name": "python"
    },
    "accelerator": "GPU"
  },
  "cells": [
    {
      "cell_type": "markdown",
      "metadata": {
        "id": "view-in-github",
        "colab_type": "text"
      },
      "source": [
        "<a href=\"https://colab.research.google.com/github/juanganb1/IA/blob/main/parcial_1_IA.ipynb\" target=\"_parent\"><img src=\"https://colab.research.google.com/assets/colab-badge.svg\" alt=\"Open In Colab\"/></a>"
      ]
    },
    {
      "cell_type": "code",
      "source": [
        "import glob\n",
        "import cv2\n",
        "import numpy as np\n",
        "\n",
        "# AJUSTAR DIMENSIONES\n",
        "\n",
        "cv_img = []\n",
        "cont = 0\n",
        "\n",
        "###=======CREACION DE LABELS==========#\n",
        "###====normal=====#####\n",
        "# for img in glob.glob(\"/content/drive/MyDrive/UTEC/Materias/Semestre 9/IA/Parcial1/Dataset2/Tire Textures/training_data/normal/*.jpg\"):\n",
        "#   cv_img.append(img)\n",
        "\n",
        "\n",
        "# tags = [i.split('/', 14)[13] for i in cv_img]\n",
        "# label = open(\"/content/drive/MyDrive/UTEC/Materias/Semestre 9/IA/Parcial1/Dataset2/Tire Textures/training_data/labels.txt\", \"w\")\n",
        "\n",
        "# for i in range (len(tags)):\n",
        "#   label.write(\"\\n\" + \"0 \" + str(tags[i]))\n",
        "# label = open(\"/content/drive/MyDrive/UTEC/Materias/Semestre 9/IA/Parcial1/Dataset2/Tire Textures/training_data/labels.txt\", \"r\")\n",
        "\n",
        "\n",
        "\n",
        "###====cracked=====#####\n",
        "# for img in glob.glob(\"/content/drive/MyDrive/UTEC/Materias/Semestre 9/IA/Parcial1/Dataset2/Tire Textures/training_data/cracked/*.jpg\"):\n",
        "#   cv_img.append(img)\n",
        "\n",
        "# tags = [i.split('/', 14)[13] for i in cv_img]\n",
        "# label = open(\"/content/drive/MyDrive/UTEC/Materias/Semestre 9/IA/Parcial1/Dataset2/Tire Textures/training_data/labels.txt\", \"w\")\n",
        "\n",
        "# for i in range (len(tags)):\n",
        "#   label.write(\"\\n\" + \"1 \" + str(tags[i]))\n",
        "\n",
        "\n",
        "\n",
        "# label = open(\"/content/drive/MyDrive/UTEC/Materias/Semestre 9/IA/Parcial1/Dataset2/Tire Textures/training_data/labels.txt\", \"r\")\n",
        "\n",
        "# label = label.read()\n",
        "# print(label)\n",
        "# print(tags)\n",
        "\n",
        "\n"
      ],
      "metadata": {
        "id": "QE1Jx0xed0Y3"
      },
      "execution_count": null,
      "outputs": []
    },
    {
      "cell_type": "code",
      "source": [
        "# Yohan - Prueba\n",
        "\n",
        "import glob\n",
        "import cv2\n",
        "import numpy as np\n",
        "\n",
        "cv_img = []\n",
        "\n",
        "for img in glob.glob(\"/content/drive/MyDrive/*.jpg\"):\n",
        "  cv_img.append(img)"
      ],
      "metadata": {
        "colab": {
          "base_uri": "https://localhost:8080/"
        },
        "id": "gP4b8s1KBOX9",
        "outputId": "23eb5974-0c50-4139-fd88-7b17f9fe015b"
      },
      "execution_count": null,
      "outputs": [
        {
          "output_type": "stream",
          "name": "stdout",
          "text": [
            "Mounted at /content/drive\n"
          ]
        }
      ]
    }
  ]
}
